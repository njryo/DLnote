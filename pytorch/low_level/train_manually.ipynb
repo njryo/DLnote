{
 "cells": [
  {
   "cell_type": "code",
   "execution_count": 1,
   "metadata": {},
   "outputs": [
    {
     "name": "stdout",
     "output_type": "stream",
     "text": [
      "1.1.0\n"
     ]
    }
   ],
   "source": [
    "import numpy as np\n",
    "import matplotlib.pyplot as plt\n",
    "import torch\n",
    "\n",
    "%matplotlib inline\n",
    "\n",
    "print(torch.__version__)"
   ]
  },
  {
   "cell_type": "markdown",
   "metadata": {},
   "source": [
    "## Train Manually\n",
    "線形回帰を例に"
   ]
  },
  {
   "cell_type": "code",
   "execution_count": 2,
   "metadata": {},
   "outputs": [],
   "source": [
    "# sample data\n",
    "TRUE_W = 5.0\n",
    "TRUE_b = 6.0\n",
    "NUM_DATA = 1000\n",
    "\n",
    "dtype = torch.float\n",
    "\n",
    "X = torch.randn(NUM_DATA, dtype=dtype)\n",
    "noise = torch.randn(NUM_DATA, dtype=dtype)\n",
    "Y = TRUE_W * X + TRUE_b + noise"
   ]
  },
  {
   "cell_type": "code",
   "execution_count": 3,
   "metadata": {},
   "outputs": [
    {
     "data": {
      "image/png": "[encoded data removed]",
      "text/plain": [
       "<Figure size 432x288 with 1 Axes>"
      ]
     },
     "metadata": {
      "needs_background": "light"
     },
     "output_type": "display_data"
    }
   ],
   "source": [
    "plt.scatter(X.numpy(), Y.numpy(), alpha=0.3);"
   ]
  },
  {
   "cell_type": "code",
   "execution_count": 4,
   "metadata": {},
   "outputs": [],
   "source": [
    "# Define Model\n",
    "class Model(object):\n",
    "    def __init__(self):\n",
    "        self.W = torch.tensor(1.0, dtype=dtype, requires_grad=True)\n",
    "        self.b = torch.tensor(1.0, dtype=dtype, requires_grad=True)\n",
    "        \n",
    "    def __call__(self, x):\n",
    "        return self.W * x + self.b\n",
    "    \n",
    "# Define loss\n",
    "def loss(predicted_y, true_y):\n",
    "    return (predicted_y - true_y).pow(2).mean()"
   ]
  },
  {
   "cell_type": "code",
   "execution_count": 5,
   "metadata": {},
   "outputs": [],
   "source": [
    "def train_one_epoch(model, inputs, targets, learning_rate):  \n",
    "    current_loss = loss(model(inputs), targets)\n",
    "    current_loss.backward()\n",
    "    \n",
    "    with torch.no_grad():\n",
    "        model.W -= learning_rate * model.W.grad\n",
    "        model.b -= learning_rate * model.b.grad\n",
    "        model.W.grad.zero_()\n",
    "        model.b.grad.zero_()"
   ]
  },
  {
   "cell_type": "code",
   "execution_count": 6,
   "metadata": {},
   "outputs": [
    {
     "name": "stdout",
     "output_type": "stream",
     "text": [
      "epoch 20: loss=29.1783\n",
      "epoch 40: loss=19.6406\n",
      "epoch 60: loss=13.3306\n",
      "epoch 80: loss=9.1561\n",
      "epoch 100: loss=6.3942\n",
      "epoch 120: loss=4.5670\n",
      "epoch 140: loss=3.3581\n",
      "epoch 160: loss=2.5583\n",
      "epoch 180: loss=2.0291\n",
      "epoch 200: loss=1.6789\n",
      "epoch 220: loss=1.4473\n",
      "epoch 240: loss=1.2940\n",
      "epoch 260: loss=1.1926\n",
      "epoch 280: loss=1.1255\n",
      "epoch 300: loss=1.0811\n",
      "epoch 320: loss=1.0517\n",
      "epoch 340: loss=1.0323\n",
      "epoch 360: loss=1.0194\n",
      "epoch 380: loss=1.0109\n",
      "epoch 400: loss=1.0052\n",
      "epoch 420: loss=1.0015\n",
      "epoch 440: loss=0.9991\n",
      "epoch 460: loss=0.9974\n",
      "epoch 480: loss=0.9963\n",
      "epoch 500: loss=0.9956\n"
     ]
    }
   ],
   "source": [
    "model = Model()\n",
    "\n",
    "for epoch in range(1, 501):\n",
    "    train_one_epoch(model, X, Y, 0.005)\n",
    "    current_loss = loss(model(X), Y).detach().numpy()\n",
    "    if epoch % 20 == 0:\n",
    "        print(\"epoch {}: loss={:.4f}\".format(epoch, current_loss))"
   ]
  },
  {
   "cell_type": "code",
   "execution_count": 7,
   "metadata": {},
   "outputs": [
    {
     "name": "stdout",
     "output_type": "stream",
     "text": [
      "W:  4.987609\n",
      "b:  6.008927\n"
     ]
    }
   ],
   "source": [
    "print(\"W: \", model.W.detach().numpy())\n",
    "print(\"b: \", model.b.detach().numpy())"
   ]
  },
  {
   "cell_type": "code",
   "execution_count": null,
   "metadata": {},
   "outputs": [],
   "source": []
  }
 ],
 "metadata": {
  "kernelspec": {
   "display_name": "Python 3.7",
   "language": "python",
   "name": "py37"
  },
  "language_info": {
   "codemirror_mode": {
    "name": "ipython",
    "version": 3
   },
   "file_extension": ".py",
   "mimetype": "text/x-python",
   "name": "python",
   "nbconvert_exporter": "python",
   "pygments_lexer": "ipython3",
   "version": "3.7.3"
  }
 },
 "nbformat": 4,
 "nbformat_minor": 2
}
