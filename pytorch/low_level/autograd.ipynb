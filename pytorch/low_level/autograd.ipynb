{
 "cells": [
  {
   "cell_type": "code",
   "execution_count": 1,
   "metadata": {},
   "outputs": [
    {
     "name": "stdout",
     "output_type": "stream",
     "text": [
      "1.1.0\n"
     ]
    }
   ],
   "source": [
    "import torch\n",
    "\n",
    "print(torch.__version__)"
   ]
  },
  {
   "cell_type": "markdown",
   "metadata": {},
   "source": [
    "## Automatic Differentiation"
   ]
  },
  {
   "cell_type": "code",
   "execution_count": 2,
   "metadata": {},
   "outputs": [
    {
     "name": "stdout",
     "output_type": "stream",
     "text": [
      "tensor([[1., 1., 1.],\n",
      "        [1., 1., 1.]])\n",
      "False\n"
     ]
    }
   ],
   "source": [
    "x = torch.ones(2, 3)\n",
    "\n",
    "print(x)\n",
    "print(x.requires_grad)"
   ]
  },
  {
   "cell_type": "code",
   "execution_count": 3,
   "metadata": {},
   "outputs": [
    {
     "name": "stdout",
     "output_type": "stream",
     "text": [
      "tensor([[1., 1., 1.],\n",
      "        [1., 1., 1.]], grad_fn=<MulBackward0>)\n",
      "tensor([[2., 2., 2.],\n",
      "        [2., 2., 2.]])\n"
     ]
    }
   ],
   "source": [
    "x = torch.ones(2, 3, requires_grad=True)\n",
    "y = x * x\n",
    "z = y.sum()\n",
    "\n",
    "z.backward()\n",
    "\n",
    "print(y)\n",
    "print(x.grad)"
   ]
  },
  {
   "cell_type": "code",
   "execution_count": 4,
   "metadata": {},
   "outputs": [
    {
     "name": "stdout",
     "output_type": "stream",
     "text": [
      "tensor([[1., 1., 1.],\n",
      "        [1., 1., 1.]], grad_fn=<MulBackward0>)\n",
      "tensor([[ 0.,  2.,  4.],\n",
      "        [ 6.,  8., 10.]])\n"
     ]
    }
   ],
   "source": [
    "x = torch.ones(2, 3, requires_grad=True)\n",
    "y = x * x\n",
    "\n",
    "y.backward(torch.tensor([[0.0, 1.0, 2.0], [3.0, 4.0, 5.0]]))\n",
    "\n",
    "print(y)\n",
    "print(x.grad)"
   ]
  },
  {
   "cell_type": "markdown",
   "metadata": {},
   "source": [
    "### Higher order gradients"
   ]
  },
  {
   "cell_type": "code",
   "execution_count": 5,
   "metadata": {},
   "outputs": [
    {
     "data": {
      "text/plain": [
       "tensor([6.])"
      ]
     },
     "execution_count": 5,
     "metadata": {},
     "output_type": "execute_result"
    }
   ],
   "source": [
    "x = torch.ones(1, requires_grad=True)\n",
    "y = x * x * x\n",
    "z = y.sum()\n",
    "\n",
    "dz_dx, = torch.autograd.grad(z, x, create_graph=True)\n",
    "\n",
    "dz_dx.backward()\n",
    "x.grad"
   ]
  },
  {
   "cell_type": "markdown",
   "metadata": {},
   "source": [
    "$$\n",
    "\\begin{equation}\n",
    "x = \n",
    "\\begin{pmatrix}\n",
    "x_{11} && x_{21} \\\\\n",
    "x_{12} && x_{22}\n",
    "\\end{pmatrix}\n",
    ", \\\\\n",
    "y = \\sum_{i, j} x_{ij}^3, \\\\\n",
    "z = y + \\sum_{i, j} \\frac{\\partial y}{\\partial x_{ij}}\n",
    "\\end{equation}\n",
    "$$\n",
    "\n",
    "において\n",
    "$$\n",
    "\\frac{\\partial z}{\\partial x_{ij}} = 3x_{ij}^2 + 6x_{ij}\n",
    "$$\n",
    "を計算する"
   ]
  },
  {
   "cell_type": "code",
   "execution_count": 6,
   "metadata": {},
   "outputs": [
    {
     "name": "stdout",
     "output_type": "stream",
     "text": [
      "grad by torch autograd:\n",
      "tensor([[ 9., 24.],\n",
      "        [45., -3.]])\n",
      "correct grad:\n",
      "[[ 9. 24.]\n",
      " [45. -3.]]\n"
     ]
    }
   ],
   "source": [
    "x = torch.tensor([[1.0, 2.0], [-5.0, -1.0]], requires_grad=True)\n",
    "y = (x**3).sum()\n",
    "\n",
    "dy_dx, = torch.autograd.grad(y, x, create_graph=True)\n",
    "z = y + dy_dx.sum()\n",
    "\n",
    "z.backward()\n",
    "print(\"grad by torch autograd:\")\n",
    "print(x.grad)\n",
    "\n",
    "x_numpy = x.detach().numpy()\n",
    "print(\"correct grad:\")\n",
    "print(3 * x_numpy**2 + 6 * x_numpy)"
   ]
  },
  {
   "cell_type": "code",
   "execution_count": null,
   "metadata": {},
   "outputs": [],
   "source": []
  }
 ],
 "metadata": {
  "kernelspec": {
   "display_name": "Python 3.7",
   "language": "python",
   "name": "py37"
  },
  "language_info": {
   "codemirror_mode": {
    "name": "ipython",
    "version": 3
   },
   "file_extension": ".py",
   "mimetype": "text/x-python",
   "name": "python",
   "nbconvert_exporter": "python",
   "pygments_lexer": "ipython3",
   "version": "3.7.3"
  }
 },
 "nbformat": 4,
 "nbformat_minor": 2
}
