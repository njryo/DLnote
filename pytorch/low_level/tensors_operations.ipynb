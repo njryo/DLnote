{
 "cells": [
  {
   "cell_type": "code",
   "execution_count": 1,
   "metadata": {},
   "outputs": [
    {
     "name": "stdout",
     "output_type": "stream",
     "text": [
      "1.1.0\n"
     ]
    }
   ],
   "source": [
    "import numpy as np\n",
    "import torch\n",
    "\n",
    "print(torch.__version__)"
   ]
  },
  {
   "cell_type": "markdown",
   "metadata": {},
   "source": [
    "## Tensors"
   ]
  },
  {
   "cell_type": "code",
   "execution_count": 2,
   "metadata": {},
   "outputs": [
    {
     "name": "stdout",
     "output_type": "stream",
     "text": [
      "tensor([[5.2064e+22, 2.1685e-04, 5.3690e-05],\n",
      "        [3.4180e-06, 1.6806e-04, 2.1006e+20]])\n"
     ]
    }
   ],
   "source": [
    "print(torch.empty(2, 3))"
   ]
  },
  {
   "cell_type": "code",
   "execution_count": 3,
   "metadata": {},
   "outputs": [
    {
     "name": "stdout",
     "output_type": "stream",
     "text": [
      "tensor([[0.8809, 0.8158, 0.7985, 0.9070],\n",
      "        [0.2123, 0.5240, 0.7613, 0.1632]])\n"
     ]
    }
   ],
   "source": [
    "print(torch.rand(2, 4))"
   ]
  },
  {
   "cell_type": "code",
   "execution_count": 4,
   "metadata": {},
   "outputs": [
    {
     "name": "stdout",
     "output_type": "stream",
     "text": [
      "tensor([2.1000, 3.0000])\n"
     ]
    }
   ],
   "source": [
    "print(torch.tensor([2.1, 3]))"
   ]
  },
  {
   "cell_type": "markdown",
   "metadata": {},
   "source": [
    "### dtype"
   ]
  },
  {
   "cell_type": "code",
   "execution_count": 5,
   "metadata": {},
   "outputs": [
    {
     "name": "stdout",
     "output_type": "stream",
     "text": [
      "tensor([2.1000, 3.0000])\n",
      "torch.float32\n"
     ]
    }
   ],
   "source": [
    "x = torch.tensor([2.1, 3])\n",
    "print(x)\n",
    "print(x.dtype)"
   ]
  },
  {
   "cell_type": "code",
   "execution_count": 6,
   "metadata": {},
   "outputs": [
    {
     "name": "stdout",
     "output_type": "stream",
     "text": [
      "tensor([[0., 0.],\n",
      "        [0., 0.],\n",
      "        [0., 0.]])\n",
      "torch.float32\n"
     ]
    }
   ],
   "source": [
    "x = torch.zeros(3, 2, dtype=torch.float)\n",
    "print(x)\n",
    "print(x.dtype)"
   ]
  },
  {
   "cell_type": "code",
   "execution_count": 7,
   "metadata": {},
   "outputs": [
    {
     "name": "stdout",
     "output_type": "stream",
     "text": [
      "tensor([[0., 0.],\n",
      "        [0., 0.],\n",
      "        [0., 0.]], dtype=torch.float64)\n",
      "torch.float64\n"
     ]
    }
   ],
   "source": [
    "x = torch.zeros(3, 2, dtype=torch.double)\n",
    "print(x)\n",
    "print(x.dtype)"
   ]
  },
  {
   "cell_type": "code",
   "execution_count": 8,
   "metadata": {},
   "outputs": [
    {
     "name": "stdout",
     "output_type": "stream",
     "text": [
      "tensor([[0, 0],\n",
      "        [0, 0],\n",
      "        [0, 0]], dtype=torch.int32)\n",
      "torch.int32\n"
     ]
    }
   ],
   "source": [
    "x = torch.zeros(3, 2, dtype=torch.int32)\n",
    "print(x)\n",
    "print(x.dtype)"
   ]
  },
  {
   "cell_type": "markdown",
   "metadata": {},
   "source": [
    "### size"
   ]
  },
  {
   "cell_type": "code",
   "execution_count": 9,
   "metadata": {},
   "outputs": [
    {
     "name": "stdout",
     "output_type": "stream",
     "text": [
      "torch.Size([2])\n",
      "torch.Size([3, 2])\n",
      "torch.Size([2, 2])\n"
     ]
    }
   ],
   "source": [
    "x = torch.zeros(2)\n",
    "print(x.size())\n",
    "\n",
    "x = torch.zeros(3, 2)\n",
    "print(x.size())\n",
    "\n",
    "x = torch.tensor([[2, 1], [3, 1]])\n",
    "print(x.size())"
   ]
  },
  {
   "cell_type": "markdown",
   "metadata": {},
   "source": [
    "## Operations"
   ]
  },
  {
   "cell_type": "code",
   "execution_count": 10,
   "metadata": {},
   "outputs": [],
   "source": [
    "x = torch.tensor([[1, 0], [0, 1]])\n",
    "y = torch.tensor([[0, 2], [3, 1]])"
   ]
  },
  {
   "cell_type": "markdown",
   "metadata": {},
   "source": [
    "### addition"
   ]
  },
  {
   "cell_type": "code",
   "execution_count": 11,
   "metadata": {},
   "outputs": [
    {
     "name": "stdout",
     "output_type": "stream",
     "text": [
      "tensor([[1, 2],\n",
      "        [3, 2]])\n",
      "tensor([[1, 2],\n",
      "        [3, 2]])\n"
     ]
    }
   ],
   "source": [
    "print(x + y)\n",
    "print(torch.add(x, y))"
   ]
  },
  {
   "cell_type": "code",
   "execution_count": 12,
   "metadata": {},
   "outputs": [
    {
     "name": "stdout",
     "output_type": "stream",
     "text": [
      "tensor([[1, 2],\n",
      "        [3, 2]])\n"
     ]
    }
   ],
   "source": [
    "result = torch.empty_like(x)\n",
    "\n",
    "torch.add(x, y, out=result)\n",
    "print(result)"
   ]
  },
  {
   "cell_type": "code",
   "execution_count": 13,
   "metadata": {},
   "outputs": [
    {
     "name": "stdout",
     "output_type": "stream",
     "text": [
      "tensor([[1, 2],\n",
      "        [3, 2]])\n"
     ]
    }
   ],
   "source": [
    "# in-place addition\n",
    "y.add_(x)\n",
    "print(y)"
   ]
  },
  {
   "cell_type": "markdown",
   "metadata": {},
   "source": [
    "### slice"
   ]
  },
  {
   "cell_type": "code",
   "execution_count": 14,
   "metadata": {},
   "outputs": [
    {
     "name": "stdout",
     "output_type": "stream",
     "text": [
      "tensor([[0.2063, 0.0156],\n",
      "        [0.8561, 0.5622],\n",
      "        [0.5152, 0.9742]])\n"
     ]
    }
   ],
   "source": [
    "x = torch.rand(3, 2)\n",
    "print(x)"
   ]
  },
  {
   "cell_type": "code",
   "execution_count": 15,
   "metadata": {},
   "outputs": [
    {
     "name": "stdout",
     "output_type": "stream",
     "text": [
      "tensor([0.0156, 0.5622, 0.9742])\n"
     ]
    }
   ],
   "source": [
    "print(x[:, 1])"
   ]
  },
  {
   "cell_type": "code",
   "execution_count": 16,
   "metadata": {},
   "outputs": [
    {
     "name": "stdout",
     "output_type": "stream",
     "text": [
      "tensor([[0.2063, 0.0156],\n",
      "        [0.8561, 0.5622]])\n"
     ]
    }
   ],
   "source": [
    "print(x[0:2, :])"
   ]
  },
  {
   "cell_type": "markdown",
   "metadata": {},
   "source": [
    "### reshape"
   ]
  },
  {
   "cell_type": "code",
   "execution_count": 17,
   "metadata": {},
   "outputs": [
    {
     "name": "stdout",
     "output_type": "stream",
     "text": [
      "tensor([[ 0.4647, -0.9568,  0.1959],\n",
      "        [ 0.0976, -0.8237,  0.5047],\n",
      "        [-0.7891, -1.6576,  0.4979],\n",
      "        [ 0.5367,  2.0624,  1.7420]])\n"
     ]
    }
   ],
   "source": [
    "x = torch.randn(4, 3)\n",
    "print(x)"
   ]
  },
  {
   "cell_type": "code",
   "execution_count": 18,
   "metadata": {},
   "outputs": [
    {
     "name": "stdout",
     "output_type": "stream",
     "text": [
      "tensor([ 0.4647, -0.9568,  0.1959,  0.0976, -0.8237,  0.5047, -0.7891, -1.6576,\n",
      "         0.4979,  0.5367,  2.0624,  1.7420])\n"
     ]
    }
   ],
   "source": [
    "print(x.view(12))"
   ]
  },
  {
   "cell_type": "code",
   "execution_count": 19,
   "metadata": {},
   "outputs": [
    {
     "name": "stdout",
     "output_type": "stream",
     "text": [
      "tensor([[ 0.4647, -0.9568,  0.1959,  0.0976, -0.8237,  0.5047],\n",
      "        [-0.7891, -1.6576,  0.4979,  0.5367,  2.0624,  1.7420]])\n"
     ]
    }
   ],
   "source": [
    "print(x.view(-1, 6))"
   ]
  },
  {
   "cell_type": "markdown",
   "metadata": {},
   "source": [
    "## Numpyとの関係\n",
    "\n",
    "torch.tensorとnumpy.arrayを行き来できる。\n",
    "片方に(in-placeな)変更を加えるともう片方も更新されるので注意。"
   ]
  },
  {
   "cell_type": "markdown",
   "metadata": {},
   "source": [
    "### from torch.tensor to numpy.array"
   ]
  },
  {
   "cell_type": "code",
   "execution_count": 20,
   "metadata": {},
   "outputs": [
    {
     "name": "stdout",
     "output_type": "stream",
     "text": [
      "tensor([[0.4377, 0.1137, 0.6769, 0.3122],\n",
      "        [0.7977, 0.7243, 0.9831, 0.5149]])\n"
     ]
    }
   ],
   "source": [
    "x_torch = torch.rand(2, 4)\n",
    "print(x_torch)"
   ]
  },
  {
   "cell_type": "code",
   "execution_count": 21,
   "metadata": {},
   "outputs": [
    {
     "data": {
      "text/plain": [
       "array([[0.4376794 , 0.11373186, 0.6768678 , 0.31223094],\n",
       "       [0.797726  , 0.72429544, 0.9831159 , 0.5148524 ]], dtype=float32)"
      ]
     },
     "execution_count": 21,
     "metadata": {},
     "output_type": "execute_result"
    }
   ],
   "source": [
    "x_numpy = x_torch.numpy()\n",
    "x_numpy"
   ]
  },
  {
   "cell_type": "code",
   "execution_count": 22,
   "metadata": {},
   "outputs": [
    {
     "name": "stdout",
     "output_type": "stream",
     "text": [
      "tensor([[3.4377, 3.1137, 3.6769, 3.3122],\n",
      "        [3.7977, 3.7243, 3.9831, 3.5149]])\n",
      "[[3.4376793 3.1137319 3.6768677 3.312231 ]\n",
      " [3.797726  3.7242954 3.983116  3.5148525]]\n"
     ]
    }
   ],
   "source": [
    "x_torch.add_(3)\n",
    "\n",
    "print(x_torch)\n",
    "print(x_numpy)"
   ]
  },
  {
   "cell_type": "code",
   "execution_count": 23,
   "metadata": {},
   "outputs": [
    {
     "name": "stdout",
     "output_type": "stream",
     "text": [
      "tensor([[100.0000,   3.1137,   3.6769,   3.3122],\n",
      "        [  3.7977,   3.7243,   3.9831,   3.5149]])\n",
      "[[100.          3.1137319   3.6768677   3.312231 ]\n",
      " [  3.797726    3.7242954   3.983116    3.5148525]]\n"
     ]
    }
   ],
   "source": [
    "x_numpy[0, 0] = 100.0\n",
    "\n",
    "print(x_torch)\n",
    "print(x_numpy)"
   ]
  },
  {
   "cell_type": "markdown",
   "metadata": {},
   "source": [
    "### from numpy.array to torch.tensor"
   ]
  },
  {
   "cell_type": "code",
   "execution_count": 24,
   "metadata": {},
   "outputs": [
    {
     "data": {
      "text/plain": [
       "array([[0.92849014, 0.88663874, 0.24959687, 0.06786177],\n",
       "       [0.18186754, 0.39224116, 0.02867458, 0.20462827]])"
      ]
     },
     "execution_count": 24,
     "metadata": {},
     "output_type": "execute_result"
    }
   ],
   "source": [
    "x_numpy = np.random.rand(2, 4)\n",
    "x_numpy"
   ]
  },
  {
   "cell_type": "code",
   "execution_count": 25,
   "metadata": {},
   "outputs": [
    {
     "name": "stdout",
     "output_type": "stream",
     "text": [
      "tensor([[0.9285, 0.8866, 0.2496, 0.0679],\n",
      "        [0.1819, 0.3922, 0.0287, 0.2046]], dtype=torch.float64)\n"
     ]
    }
   ],
   "source": [
    "x_torch = torch.from_numpy(x_numpy)\n",
    "print(x_torch)"
   ]
  },
  {
   "cell_type": "code",
   "execution_count": 26,
   "metadata": {},
   "outputs": [
    {
     "name": "stdout",
     "output_type": "stream",
     "text": [
      "tensor([[3.9285, 3.8866, 3.2496, 3.0679],\n",
      "        [3.1819, 3.3922, 3.0287, 3.2046]], dtype=torch.float64)\n",
      "[[3.92849014 3.88663874 3.24959687 3.06786177]\n",
      " [3.18186754 3.39224116 3.02867458 3.20462827]]\n"
     ]
    }
   ],
   "source": [
    "x_torch.add_(3)\n",
    "\n",
    "print(x_torch)\n",
    "print(x_numpy)"
   ]
  },
  {
   "cell_type": "code",
   "execution_count": 27,
   "metadata": {},
   "outputs": [
    {
     "name": "stdout",
     "output_type": "stream",
     "text": [
      "tensor([[100.0000,   3.8866,   3.2496,   3.0679],\n",
      "        [  3.1819,   3.3922,   3.0287,   3.2046]], dtype=torch.float64)\n",
      "[[100.           3.88663874   3.24959687   3.06786177]\n",
      " [  3.18186754   3.39224116   3.02867458   3.20462827]]\n"
     ]
    }
   ],
   "source": [
    "x_numpy[0, 0] = 100.0\n",
    "\n",
    "print(x_torch)\n",
    "print(x_numpy)"
   ]
  },
  {
   "cell_type": "code",
   "execution_count": null,
   "metadata": {},
   "outputs": [],
   "source": []
  }
 ],
 "metadata": {
  "kernelspec": {
   "display_name": "Python 3.7",
   "language": "python",
   "name": "py37"
  },
  "language_info": {
   "codemirror_mode": {
    "name": "ipython",
    "version": 3
   },
   "file_extension": ".py",
   "mimetype": "text/x-python",
   "name": "python",
   "nbconvert_exporter": "python",
   "pygments_lexer": "ipython3",
   "version": "3.7.3"
  }
 },
 "nbformat": 4,
 "nbformat_minor": 2
}
