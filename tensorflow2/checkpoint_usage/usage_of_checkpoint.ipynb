{
 "cells": [
  {
   "cell_type": "code",
   "execution_count": 1,
   "metadata": {},
   "outputs": [
    {
     "name": "stdout",
     "output_type": "stream",
     "text": [
      "2.0.0-rc1\n"
     ]
    }
   ],
   "source": [
    "import os\n",
    "import numpy as np\n",
    "import matplotlib.pyplot as plt\n",
    "\n",
    "import tensorflow as tf\n",
    "from tensorflow import keras\n",
    "\n",
    "print(tf.__version__)"
   ]
  },
  {
   "cell_type": "markdown",
   "metadata": {},
   "source": [
    "## Checkpoint によるモデルの保存\n",
    "\n",
    "Checkpoint を使ってモデルを保存するやり方のメモ。\n",
    "\n",
    "```\n",
    "# TODO: もう少し説明を付け加える\n",
    "```"
   ]
  },
  {
   "cell_type": "code",
   "execution_count": 2,
   "metadata": {},
   "outputs": [],
   "source": [
    "# まずは簡単なデータセットを作っておく\n",
    "\n",
    "def make_toy_dataset(num_data):\n",
    "    X = np.random.randn(num_data, 3)\n",
    "    y = 3 * X[:, 0] - 2 * X[:, 1]**3 + 2 * X[:, 2]**2 + 0.5 * np.random.randn(num_data)\n",
    "    y = y[:, np.newaxis]\n",
    "    return X.astype(np.float32), y.astype(np.float32)\n",
    "\n",
    "N_train = 400\n",
    "\n",
    "# get toy datasets\n",
    "X_train, y_train = make_toy_dataset(N_train)\n",
    "\n",
    "# make datasets\n",
    "train_dataset = tf.data.Dataset.from_tensor_slices((X_train, y_train))\n",
    "train_dataset = train_dataset.shuffle(buffer_size=10000).batch(64)"
   ]
  },
  {
   "cell_type": "code",
   "execution_count": 3,
   "metadata": {},
   "outputs": [],
   "source": [
    "# 説明用のモデルと訓練関数\n",
    "\n",
    "def build_model():\n",
    "    model = keras.models.Sequential([\n",
    "        keras.layers.Dense(3, activation=\"relu\", input_dim=3),\n",
    "        keras.layers.Dense(10, activation=\"relu\"),\n",
    "        keras.layers.Dense(1)\n",
    "    ])\n",
    "\n",
    "    return model\n",
    "\n",
    "def train(model, optimizer, loss_fn, X_batch, y_batch):\n",
    "    with tf.GradientTape() as tape:\n",
    "        y_pred = model(X_batch)\n",
    "        loss = loss_fn(y_batch, y_pred)\n",
    "    \n",
    "    grads = tape.gradient(loss, model.trainable_weights)\n",
    "    optimizer.apply_gradients(zip(grads, model.trainable_weights))\n",
    "    \n",
    "    return loss"
   ]
  },
  {
   "cell_type": "code",
   "execution_count": 4,
   "metadata": {},
   "outputs": [
    {
     "name": "stdout",
     "output_type": "stream",
     "text": [
      "kernel weights of first layer:\n",
      " [[-0.33032894 -0.37823057  0.8178873 ]\n",
      " [ 0.3777125   0.27058053  0.6953354 ]\n",
      " [ 0.86268115 -0.51806164 -0.26143527]]\n"
     ]
    }
   ],
   "source": [
    "model = build_model()\n",
    "optimizer = keras.optimizers.SGD(0.01)\n",
    "loss_fn = keras.losses.MeanSquaredError()\n",
    "train_loss_metric = keras.metrics.Mean()\n",
    "\n",
    "print(\"kernel weights of first layer:\\n\", model.get_weights()[0])"
   ]
  },
  {
   "cell_type": "code",
   "execution_count": 5,
   "metadata": {},
   "outputs": [
    {
     "name": "stdout",
     "output_type": "stream",
     "text": [
      "train loss: tf.Tensor(125.74383, shape=(), dtype=float32)\n",
      "kernel weights of first layer:\n",
      " [[-0.3704103  -0.30586207  0.89951116]\n",
      " [ 0.4682661   0.6152704   0.47357768]\n",
      " [ 0.8369156  -0.4063372  -0.252726  ]]\n",
      "\n",
      "\n",
      "train loss: tf.Tensor(103.58496, shape=(), dtype=float32)\n",
      "kernel weights of first layer:\n",
      " [[-0.4631116  -0.39243665  0.9965098 ]\n",
      " [ 0.60907483  0.89838797  0.40517837]\n",
      " [ 0.75219005 -0.29455265 -0.27950624]]\n",
      "\n",
      "\n"
     ]
    }
   ],
   "source": [
    "# checkpoint を保存しながら学習\n",
    "\n",
    "checkpoint_prefix = os.path.join(\".\", \"ckpt_dir\", \"ckpt\")\n",
    "checkpoint = tf.train.Checkpoint(model=model, optimizer=optimizer)\n",
    "\n",
    "checkpoint.save(checkpoint_prefix)\n",
    "for epoch in range(2):\n",
    "    for X_batch, y_batch in train_dataset:\n",
    "        loss = train(model, optimizer, loss_fn, X_batch, y_batch)\n",
    "        train_loss_metric(loss)\n",
    "        \n",
    "    print(\"train loss:\", train_loss_metric.result())\n",
    "    print(\"kernel weights of first layer:\\n\", model.get_weights()[0])\n",
    "    print(\"\\n\")\n",
    "    \n",
    "    train_loss_metric.reset_states()\n",
    "    \n",
    "    checkpoint.save(checkpoint_prefix)"
   ]
  },
  {
   "cell_type": "code",
   "execution_count": 6,
   "metadata": {},
   "outputs": [
    {
     "data": {
      "text/plain": [
       "['checkpoint',\n",
       " 'ckpt-1.data-00000-of-00001',\n",
       " 'ckpt-1.index',\n",
       " 'ckpt-2.data-00000-of-00001',\n",
       " 'ckpt-2.index',\n",
       " 'ckpt-3.data-00000-of-00001',\n",
       " 'ckpt-3.index']"
      ]
     },
     "execution_count": 6,
     "metadata": {},
     "output_type": "execute_result"
    }
   ],
   "source": [
    "os.listdir(os.path.join(\".\", \"ckpt_dir\"))"
   ]
  },
  {
   "cell_type": "code",
   "execution_count": 7,
   "metadata": {},
   "outputs": [],
   "source": [
    "status = checkpoint.restore(os.path.join(\".\", \"ckpt_dir\", \"ckpt-3\"))"
   ]
  },
  {
   "cell_type": "code",
   "execution_count": 8,
   "metadata": {},
   "outputs": [
    {
     "name": "stdout",
     "output_type": "stream",
     "text": [
      "kernel weights of first layer:\n",
      " [[-0.4631116  -0.39243665  0.9965098 ]\n",
      " [ 0.60907483  0.89838797  0.40517837]\n",
      " [ 0.75219005 -0.29455265 -0.27950624]]\n"
     ]
    }
   ],
   "source": [
    "# 訓練後のweight に一致している\n",
    "print(\"kernel weights of first layer:\\n\", model.get_weights()[0])"
   ]
  },
  {
   "cell_type": "code",
   "execution_count": 9,
   "metadata": {},
   "outputs": [
    {
     "data": {
      "text/plain": [
       "<tensorflow.python.training.tracking.util.CheckpointLoadStatus at 0x1c1dcdd4748>"
      ]
     },
     "execution_count": 9,
     "metadata": {},
     "output_type": "execute_result"
    }
   ],
   "source": [
    "# 復元できているかの確認、できていなければエラー\n",
    "status.assert_consumed()"
   ]
  },
  {
   "cell_type": "markdown",
   "metadata": {},
   "source": [
    "別のモデルを作って、そこに復元してみる"
   ]
  },
  {
   "cell_type": "code",
   "execution_count": 10,
   "metadata": {},
   "outputs": [
    {
     "data": {
      "text/plain": [
       "array([[-0.40004373, -0.39759374,  0.6263609 ],\n",
       "       [-0.40927815, -0.60612726, -0.6868794 ],\n",
       "       [-0.18071747, -0.99379706,  0.54345655]], dtype=float32)"
      ]
     },
     "execution_count": 10,
     "metadata": {},
     "output_type": "execute_result"
    }
   ],
   "source": [
    "model1 = build_model()\n",
    "model1.get_weights()[0]"
   ]
  },
  {
   "cell_type": "code",
   "execution_count": 11,
   "metadata": {},
   "outputs": [],
   "source": [
    "checkpoint1 = tf.train.Checkpoint(model=model1)\n",
    "status1 = checkpoint1.restore(os.path.join(\".\", \"ckpt_dir\", \"ckpt-3\"))"
   ]
  },
  {
   "cell_type": "code",
   "execution_count": 12,
   "metadata": {},
   "outputs": [
    {
     "name": "stdout",
     "output_type": "stream",
     "text": [
      "kernel weights of first layer:\n",
      " [[-0.4631116  -0.39243665  0.9965098 ]\n",
      " [ 0.60907483  0.89838797  0.40517837]\n",
      " [ 0.75219005 -0.29455265 -0.27950624]]\n"
     ]
    }
   ],
   "source": [
    "# 訓練後のモデルのweight と同じ\n",
    "print(\"kernel weights of first layer:\\n\", model1.get_weights()[0])"
   ]
  },
  {
   "cell_type": "code",
   "execution_count": 13,
   "metadata": {},
   "outputs": [
    {
     "ename": "AssertionError",
     "evalue": "Unresolved object in checkpoint (root).optimizer: children {\n  node_id: 8\n  local_name: \"iter\"\n}\nchildren {\n  node_id: 9\n  local_name: \"decay\"\n}\nchildren {\n  node_id: 10\n  local_name: \"learning_rate\"\n}\nchildren {\n  node_id: 11\n  local_name: \"momentum\"\n}\n",
     "output_type": "error",
     "traceback": [
      "\u001b[1;31m---------------------------------------------------------------------------\u001b[0m",
      "\u001b[1;31mAssertionError\u001b[0m                            Traceback (most recent call last)",
      "\u001b[1;32m<ipython-input-13-63825125528d>\u001b[0m in \u001b[0;36m<module>\u001b[1;34m\u001b[0m\n\u001b[0;32m      1\u001b[0m \u001b[1;31m# optimizer のパラメータは復元できていないのでエラー\u001b[0m\u001b[1;33m\u001b[0m\u001b[1;33m\u001b[0m\u001b[1;33m\u001b[0m\u001b[0m\n\u001b[1;32m----> 2\u001b[1;33m \u001b[0mstatus1\u001b[0m\u001b[1;33m.\u001b[0m\u001b[0massert_consumed\u001b[0m\u001b[1;33m(\u001b[0m\u001b[1;33m)\u001b[0m\u001b[1;33m\u001b[0m\u001b[1;33m\u001b[0m\u001b[0m\n\u001b[0m",
      "\u001b[1;32m~\\Anaconda3\\envs\\py37tf\\lib\\site-packages\\tensorflow_core\\python\\training\\tracking\\util.py\u001b[0m in \u001b[0;36massert_consumed\u001b[1;34m(self)\u001b[0m\n\u001b[0;32m    710\u001b[0m       \u001b[1;32mif\u001b[0m \u001b[0mtrackable\u001b[0m \u001b[1;32mis\u001b[0m \u001b[1;32mNone\u001b[0m\u001b[1;33m:\u001b[0m\u001b[1;33m\u001b[0m\u001b[1;33m\u001b[0m\u001b[0m\n\u001b[0;32m    711\u001b[0m         raise AssertionError(\"Unresolved object in checkpoint {}: {}\"\n\u001b[1;32m--> 712\u001b[1;33m                              .format(pretty_printer.node_names[node_id], node))\n\u001b[0m\u001b[0;32m    713\u001b[0m     \u001b[1;32mif\u001b[0m \u001b[0mself\u001b[0m\u001b[1;33m.\u001b[0m\u001b[0m_checkpoint\u001b[0m\u001b[1;33m.\u001b[0m\u001b[0mslot_restorations\u001b[0m\u001b[1;33m:\u001b[0m\u001b[1;33m\u001b[0m\u001b[1;33m\u001b[0m\u001b[0m\n\u001b[0;32m    714\u001b[0m       \u001b[1;31m# Sanity check; this collection should be clear if everything has been\u001b[0m\u001b[1;33m\u001b[0m\u001b[1;33m\u001b[0m\u001b[1;33m\u001b[0m\u001b[0m\n",
      "\u001b[1;31mAssertionError\u001b[0m: Unresolved object in checkpoint (root).optimizer: children {\n  node_id: 8\n  local_name: \"iter\"\n}\nchildren {\n  node_id: 9\n  local_name: \"decay\"\n}\nchildren {\n  node_id: 10\n  local_name: \"learning_rate\"\n}\nchildren {\n  node_id: 11\n  local_name: \"momentum\"\n}\n"
     ]
    }
   ],
   "source": [
    "# optimizer のパラメータは復元できていないのでエラー\n",
    "status1.assert_consumed()"
   ]
  },
  {
   "cell_type": "code",
   "execution_count": 14,
   "metadata": {},
   "outputs": [
    {
     "data": {
      "text/plain": [
       "<tensorflow.python.training.tracking.util.CheckpointLoadStatus at 0x1c1e9301f98>"
      ]
     },
     "execution_count": 14,
     "metadata": {},
     "output_type": "execute_result"
    }
   ],
   "source": [
    "# こっちのassert にはパスする\n",
    "status1.assert_existing_objects_matched()"
   ]
  },
  {
   "cell_type": "code",
   "execution_count": null,
   "metadata": {},
   "outputs": [],
   "source": []
  }
 ],
 "metadata": {
  "kernelspec": {
   "display_name": "Python 3.7 (tf2)",
   "language": "python",
   "name": "py37tf"
  },
  "language_info": {
   "codemirror_mode": {
    "name": "ipython",
    "version": 3
   },
   "file_extension": ".py",
   "mimetype": "text/x-python",
   "name": "python",
   "nbconvert_exporter": "python",
   "pygments_lexer": "ipython3",
   "version": "3.7.3"
  }
 },
 "nbformat": 4,
 "nbformat_minor": 2
}
