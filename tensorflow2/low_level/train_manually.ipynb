{
 "cells": [
  {
   "cell_type": "code",
   "execution_count": 1,
   "metadata": {},
   "outputs": [
    {
     "name": "stdout",
     "output_type": "stream",
     "text": [
      "2.0.0-rc0\n"
     ]
    }
   ],
   "source": [
    "import numpy as np\n",
    "import matplotlib.pyplot as plt\n",
    "import tensorflow as tf\n",
    "\n",
    "%matplotlib inline\n",
    "\n",
    "print(tf.__version__)"
   ]
  },
  {
   "cell_type": "markdown",
   "metadata": {},
   "source": [
    "## Train Manually\n",
    "線形回帰を例に"
   ]
  },
  {
   "cell_type": "code",
   "execution_count": 2,
   "metadata": {},
   "outputs": [],
   "source": [
    "# sample data\n",
    "TRUE_W = 5.0\n",
    "TRUE_b = 6.0\n",
    "NUM_DATA = 1000\n",
    "\n",
    "X = tf.random.normal(shape=[NUM_DATA])\n",
    "noise = tf.random.normal(shape=[NUM_DATA])\n",
    "Y = TRUE_W * X + TRUE_b + noise"
   ]
  },
  {
   "cell_type": "code",
   "execution_count": 3,
   "metadata": {},
   "outputs": [
    {
     "data": {
      "image/png": "[encoded data removed]",
      "text/plain": [
       "<Figure size 432x288 with 1 Axes>"
      ]
     },
     "metadata": {
      "needs_background": "light"
     },
     "output_type": "display_data"
    }
   ],
   "source": [
    "plt.scatter(X, Y, alpha=0.3);"
   ]
  },
  {
   "cell_type": "code",
   "execution_count": 4,
   "metadata": {},
   "outputs": [],
   "source": [
    "# Define Model\n",
    "class Model(object):\n",
    "    def __init__(self):\n",
    "        self.W = tf.Variable(1.0)\n",
    "        self.b = tf.Variable(1.0)\n",
    "\n",
    "    def __call__(self, x):\n",
    "        return self.W * x + self.b\n",
    "\n",
    "# Define loss\n",
    "def loss(predicted_y, true_y):\n",
    "    return tf.reduce_mean(tf.square(predicted_y - true_y))"
   ]
  },
  {
   "cell_type": "code",
   "execution_count": 5,
   "metadata": {},
   "outputs": [],
   "source": [
    "# train function\n",
    "def train_one_epoch(model, inputs, targets, learning_rate):\n",
    "    with tf.GradientTape() as t:\n",
    "        current_loss = loss(model(inputs), targets)\n",
    "    dW, db = t.gradient(current_loss, [model.W, model.b])\n",
    "    model.W.assign_sub(learning_rate * dW)\n",
    "    model.b.assign_sub(learning_rate * db)"
   ]
  },
  {
   "cell_type": "code",
   "execution_count": 6,
   "metadata": {},
   "outputs": [
    {
     "name": "stdout",
     "output_type": "stream",
     "text": [
      "epoch 20: loss=29.0388\n",
      "epoch 40: loss=19.4445\n",
      "epoch 60: loss=13.1362\n",
      "epoch 80: loss=8.9884\n",
      "epoch 100: loss=6.2610\n",
      "epoch 120: loss=4.4674\n",
      "epoch 140: loss=3.2880\n",
      "epoch 160: loss=2.5123\n",
      "epoch 180: loss=2.0022\n",
      "epoch 200: loss=1.6667\n",
      "epoch 220: loss=1.4460\n",
      "epoch 240: loss=1.3008\n",
      "epoch 260: loss=1.2054\n",
      "epoch 280: loss=1.1425\n",
      "epoch 300: loss=1.1012\n",
      "epoch 320: loss=1.0740\n",
      "epoch 340: loss=1.0561\n",
      "epoch 360: loss=1.0444\n",
      "epoch 380: loss=1.0366\n",
      "epoch 400: loss=1.0315\n",
      "epoch 420: loss=1.0282\n",
      "epoch 440: loss=1.0259\n",
      "epoch 460: loss=1.0245\n",
      "epoch 480: loss=1.0235\n",
      "epoch 500: loss=1.0229\n"
     ]
    }
   ],
   "source": [
    "model = Model()\n",
    "\n",
    "for epoch in range(1, 501):\n",
    "    train_one_epoch(model, X, Y, 0.005)\n",
    "    current_loss = loss(model(X), Y).numpy()\n",
    "    if epoch % 20 == 0:\n",
    "        print(\"epoch {}: loss={:.4f}\".format(epoch, current_loss))"
   ]
  },
  {
   "cell_type": "code",
   "execution_count": 7,
   "metadata": {},
   "outputs": [
    {
     "name": "stdout",
     "output_type": "stream",
     "text": [
      "W:  4.9373956\n",
      "b:  5.9936314\n"
     ]
    }
   ],
   "source": [
    "print(\"W: \", model.W.numpy())\n",
    "print(\"b: \", model.b.numpy())"
   ]
  },
  {
   "cell_type": "code",
   "execution_count": null,
   "metadata": {},
   "outputs": [],
   "source": []
  }
 ],
 "metadata": {
  "file_extension": ".py",
  "kernelspec": {
   "display_name": "Python 3.7 (tf2)",
   "language": "python",
   "name": "py37tf"
  },
  "language_info": {
   "codemirror_mode": {
    "name": "ipython",
    "version": 3
   },
   "file_extension": ".py",
   "mimetype": "text/x-python",
   "name": "python",
   "nbconvert_exporter": "python",
   "pygments_lexer": "ipython3",
   "version": "3.7.3"
  },
  "mimetype": "text/x-python",
  "name": "python",
  "npconvert_exporter": "python",
  "pygments_lexer": "ipython3",
  "version": 3
 },
 "nbformat": 4,
 "nbformat_minor": 2
}
