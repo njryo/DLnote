{
 "cells": [
  {
   "cell_type": "code",
   "execution_count": 1,
   "metadata": {
    "colab": {
     "base_uri": "https://localhost:8080/",
     "height": 35
    },
    "colab_type": "code",
    "id": "r9FNB3j14tCF",
    "outputId": "6d08d4a2-8582-432f-9e64-c523ca2c8a2f"
   },
   "outputs": [
    {
     "name": "stdout",
     "output_type": "stream",
     "text": [
      "2.0.0-rc1\n"
     ]
    }
   ],
   "source": [
    "import numpy as np\n",
    "import tensorflow as tf\n",
    "\n",
    "print(tf.__version__)"
   ]
  },
  {
   "cell_type": "markdown",
   "metadata": {
    "colab_type": "text",
    "id": "GtvWWUMm4tCS"
   },
   "source": [
    "## Gradient tapes\n",
    "\n",
    "### 基本の使い方"
   ]
  },
  {
   "cell_type": "code",
   "execution_count": 2,
   "metadata": {
    "colab": {
     "base_uri": "https://localhost:8080/",
     "height": 53
    },
    "colab_type": "code",
    "id": "XTYGFqOM4tCT",
    "outputId": "111b3109-95cb-4c4b-8725-a6438f600e13"
   },
   "outputs": [
    {
     "name": "stdout",
     "output_type": "stream",
     "text": [
      "[[8. 8.]\n",
      " [8. 8.]]\n"
     ]
    }
   ],
   "source": [
    "x = tf.ones(shape=(2, 2))\n",
    "\n",
    "with tf.GradientTape() as t:\n",
    "    t.watch(x)\n",
    "    y = tf.reduce_sum(x)\n",
    "    z = tf.multiply(y, y)\n",
    "    \n",
    "dz_dx = t.gradient(z, x)\n",
    "\n",
    "print(dz_dx.numpy())"
   ]
  },
  {
   "cell_type": "code",
   "execution_count": 3,
   "metadata": {
    "colab": {
     "base_uri": "https://localhost:8080/",
     "height": 35
    },
    "colab_type": "code",
    "id": "feC3eaoy4tCX",
    "outputId": "421a67ba-4af3-4a20-cb2b-c1e7289e280d"
   },
   "outputs": [
    {
     "name": "stdout",
     "output_type": "stream",
     "text": [
      "8.0\n"
     ]
    }
   ],
   "source": [
    "# intermediate gradient\n",
    "x = tf.ones(shape=(2, 2))\n",
    "\n",
    "with tf.GradientTape() as t:\n",
    "    t.watch(x)\n",
    "    y = tf.reduce_sum(x)\n",
    "    z = tf.multiply(y, y)\n",
    "    \n",
    "dz_dy = t.gradient(z, y)\n",
    "\n",
    "print(dz_dy.numpy())"
   ]
  },
  {
   "cell_type": "code",
   "execution_count": 4,
   "metadata": {
    "colab": {
     "base_uri": "https://localhost:8080/",
     "height": 333
    },
    "colab_type": "code",
    "id": "1PI6ZvIn4tCb",
    "outputId": "0f2b90a6-8983-43c4-ba06-a00fc36f9f98"
   },
   "outputs": [
    {
     "ename": "RuntimeError",
     "evalue": "GradientTape.gradient can only be called once on non-persistent tapes.",
     "output_type": "error",
     "traceback": [
      "\u001b[1;31m---------------------------------------------------------------------------\u001b[0m",
      "\u001b[1;31mRuntimeError\u001b[0m                              Traceback (most recent call last)",
      "\u001b[1;32m<ipython-input-4-5eaa5ed9d38f>\u001b[0m in \u001b[0;36m<module>\u001b[1;34m\u001b[0m\n\u001b[0;32m      9\u001b[0m \u001b[1;33m\u001b[0m\u001b[0m\n\u001b[0;32m     10\u001b[0m \u001b[0mdz_dx\u001b[0m \u001b[1;33m=\u001b[0m \u001b[0mt\u001b[0m\u001b[1;33m.\u001b[0m\u001b[0mgradient\u001b[0m\u001b[1;33m(\u001b[0m\u001b[0mz\u001b[0m\u001b[1;33m,\u001b[0m \u001b[0mx\u001b[0m\u001b[1;33m)\u001b[0m\u001b[1;33m\u001b[0m\u001b[1;33m\u001b[0m\u001b[0m\n\u001b[1;32m---> 11\u001b[1;33m \u001b[0mdz_dy\u001b[0m \u001b[1;33m=\u001b[0m \u001b[0mt\u001b[0m\u001b[1;33m.\u001b[0m\u001b[0mgradient\u001b[0m\u001b[1;33m(\u001b[0m\u001b[0mz\u001b[0m\u001b[1;33m,\u001b[0m \u001b[0my\u001b[0m\u001b[1;33m)\u001b[0m\u001b[1;33m\u001b[0m\u001b[1;33m\u001b[0m\u001b[0m\n\u001b[0m",
      "\u001b[1;32m~\\Anaconda3\\envs\\py37tf\\lib\\site-packages\\tensorflow_core\\python\\eager\\backprop.py\u001b[0m in \u001b[0;36mgradient\u001b[1;34m(self, target, sources, output_gradients, unconnected_gradients)\u001b[0m\n\u001b[0;32m    963\u001b[0m     \"\"\"\n\u001b[0;32m    964\u001b[0m     \u001b[1;32mif\u001b[0m \u001b[0mself\u001b[0m\u001b[1;33m.\u001b[0m\u001b[0m_tape\u001b[0m \u001b[1;32mis\u001b[0m \u001b[1;32mNone\u001b[0m\u001b[1;33m:\u001b[0m\u001b[1;33m\u001b[0m\u001b[1;33m\u001b[0m\u001b[0m\n\u001b[1;32m--> 965\u001b[1;33m       raise RuntimeError(\"GradientTape.gradient can only be called once on \"\n\u001b[0m\u001b[0;32m    966\u001b[0m                          \"non-persistent tapes.\")\n\u001b[0;32m    967\u001b[0m     \u001b[1;32mif\u001b[0m \u001b[0mself\u001b[0m\u001b[1;33m.\u001b[0m\u001b[0m_recording\u001b[0m\u001b[1;33m:\u001b[0m\u001b[1;33m\u001b[0m\u001b[1;33m\u001b[0m\u001b[0m\n",
      "\u001b[1;31mRuntimeError\u001b[0m: GradientTape.gradient can only be called once on non-persistent tapes."
     ]
    }
   ],
   "source": [
    "# これはエラーになる\n",
    "# .gradientが一度呼ばれるとGradientTapeは解放される\n",
    "x = tf.ones(shape=(2, 2))\n",
    "\n",
    "with tf.GradientTape() as t:\n",
    "    t.watch(x)\n",
    "    y = tf.reduce_sum(x)\n",
    "    z = tf.multiply(y, y)\n",
    "    \n",
    "dz_dx = t.gradient(z, x)    \n",
    "dz_dy = t.gradient(z, y)"
   ]
  },
  {
   "cell_type": "code",
   "execution_count": 5,
   "metadata": {
    "colab": {},
    "colab_type": "code",
    "id": "jn79JjJN4tCf"
   },
   "outputs": [],
   "source": [
    "# 複数回.gradientを呼ぶ場合はpersistent=Trueとする\n",
    "# リソースは手動で解放\n",
    "x = tf.ones(shape=(2, 2))\n",
    "\n",
    "with tf.GradientTape(persistent=True) as t:\n",
    "    t.watch(x)\n",
    "    y = tf.reduce_sum(x)\n",
    "    z = tf.multiply(y, y)\n",
    "    \n",
    "dz_dx = t.gradient(z, x)    \n",
    "dz_dy = t.gradient(z, y)\n",
    "\n",
    "del t"
   ]
  },
  {
   "cell_type": "markdown",
   "metadata": {
    "colab_type": "text",
    "id": "IhW7HAOR4tCi"
   },
   "source": [
    "### Higher-order gradients"
   ]
  },
  {
   "cell_type": "code",
   "execution_count": 6,
   "metadata": {
    "colab": {
     "base_uri": "https://localhost:8080/",
     "height": 53
    },
    "colab_type": "code",
    "id": "U3aW1DT14tCj",
    "outputId": "425530f5-e805-444d-f75d-c2c7bbf3d765"
   },
   "outputs": [
    {
     "name": "stdout",
     "output_type": "stream",
     "text": [
      "tf.Tensor(4.0, shape=(), dtype=float32)\n",
      "tf.Tensor(2.0, shape=(), dtype=float32)\n"
     ]
    }
   ],
   "source": [
    "x = tf.Variable(2.0)\n",
    "\n",
    "with tf.GradientTape() as t:\n",
    "    with tf.GradientTape() as t2:\n",
    "        y = x * x\n",
    "    \n",
    "    dy_dx = t2.gradient(y, x)\n",
    "d2y_d2x = t.gradient(dy_dx, x)\n",
    "\n",
    "print(dy_dx)\n",
    "print(d2y_d2x)"
   ]
  },
  {
   "cell_type": "markdown",
   "metadata": {
    "colab_type": "text",
    "id": "ZqxIfe4P4tCn"
   },
   "source": [
    "### .watchについて\n",
    "\n",
    "cf. tf.GradientTapeのドキュメント（argsのwatch_accessed_variablesの部分など）\n",
    "\n",
    "デフォルトではtrainableなVariableを自動でwatchしている。細かいコントロールをしたい時は`watch_accessed_variables=False`とする。"
   ]
  },
  {
   "cell_type": "code",
   "execution_count": 7,
   "metadata": {
    "colab": {},
    "colab_type": "code",
    "id": "0saj3SrQ5TRG"
   },
   "outputs": [],
   "source": [
    "tf.GradientTape?"
   ]
  },
  {
   "cell_type": "code",
   "execution_count": 8,
   "metadata": {
    "colab": {
     "base_uri": "https://localhost:8080/",
     "height": 163
    },
    "colab_type": "code",
    "id": "RD9gWhNo5W1h",
    "outputId": "d5d193bd-3445-420e-c521-baab22d4ed47"
   },
   "outputs": [
    {
     "name": "stdout",
     "output_type": "stream",
     "text": [
      "tf.Tensor(4.0, shape=(), dtype=float32)\n",
      "tf.Tensor(1.0, shape=(), dtype=float32)\n",
      "tf.Tensor(3.0, shape=(), dtype=float32)\n"
     ]
    }
   ],
   "source": [
    "a = tf.Variable(2.0)\n",
    "b = tf.Variable(3.0)\n",
    "c = tf.Variable(1.0)\n",
    "\n",
    "with tf.GradientTape() as t:\n",
    "    y = a**2 + b * c\n",
    "\n",
    "dy_da, dy_db, dy_dc = t.gradient(y, [a, b, c])\n",
    "\n",
    "print(dy_da)\n",
    "print(dy_db)\n",
    "print(dy_dc)"
   ]
  },
  {
   "cell_type": "code",
   "execution_count": 9,
   "metadata": {
    "colab": {
     "base_uri": "https://localhost:8080/",
     "height": 71
    },
    "colab_type": "code",
    "id": "nq-3NWHh57lP",
    "outputId": "688c8e89-192e-4116-ac98-6d1e32facf1b"
   },
   "outputs": [
    {
     "name": "stdout",
     "output_type": "stream",
     "text": [
      "None\n",
      "tf.Tensor(1.0, shape=(), dtype=float32)\n",
      "tf.Tensor(3.0, shape=(), dtype=float32)\n"
     ]
    }
   ],
   "source": [
    "# dy_daはNoneになるので注意\n",
    "a = tf.Variable(2.0)\n",
    "b = tf.Variable(3.0)\n",
    "c = tf.Variable(1.0)\n",
    "\n",
    "with tf.GradientTape(watch_accessed_variables=False) as t:\n",
    "    t.watch([b, c])\n",
    "    y = a**2 + b * c\n",
    "\n",
    "dy_da, dy_db, dy_dc = t.gradient(y, [a, b, c])\n",
    "\n",
    "print(dy_da)\n",
    "print(dy_db)\n",
    "print(dy_dc)"
   ]
  },
  {
   "cell_type": "markdown",
   "metadata": {
    "colab": {},
    "colab_type": "code",
    "id": "3_TY_uRV6erz"
   },
   "source": [
    "### Tips"
   ]
  },
  {
   "cell_type": "code",
   "execution_count": 10,
   "metadata": {},
   "outputs": [
    {
     "name": "stdout",
     "output_type": "stream",
     "text": [
      "tf.Tensor(1.0, shape=(), dtype=float32)\n",
      "None\n"
     ]
    }
   ],
   "source": [
    "# PyTorch のdetachにあたることがしたいとき\n",
    "\n",
    "x = tf.constant(1.0)\n",
    "w1 = tf.Variable(2.0)\n",
    "w2 = tf.Variable(2.0)\n",
    "\n",
    "with tf.GradientTape() as t:\n",
    "    y1 = w1 * x\n",
    "    y2 = w2 * x\n",
    "    z = y1 - tf.stop_gradient(y2) # stop_gradientでただの定数として扱われる\n",
    "    \n",
    "dz_dw1, dz_dw2 = t.gradient(z, [w1, w2])\n",
    "\n",
    "print(dz_dw1)\n",
    "print(dz_dw2)"
   ]
  },
  {
   "cell_type": "code",
   "execution_count": 11,
   "metadata": {},
   "outputs": [
    {
     "name": "stdout",
     "output_type": "stream",
     "text": [
      "tf.Tensor(1.0, shape=(), dtype=float32)\n",
      "tf.Tensor(0.0, shape=(), dtype=float32)\n"
     ]
    }
   ],
   "source": [
    "# 微分の値でNone ではなく0を返して欲しい時\n",
    "\n",
    "x = tf.constant(1.0)\n",
    "w1 = tf.Variable(2.0)\n",
    "w2 = tf.Variable(2.0)\n",
    "\n",
    "with tf.GradientTape() as t:\n",
    "    z = w1 * x\n",
    "    \n",
    "dz_dw1, dz_dw2 = t.gradient(z, [w1, w2], unconnected_gradients=\"zero\")\n",
    "print(dz_dw1)\n",
    "print(dz_dw2)"
   ]
  },
  {
   "cell_type": "code",
   "execution_count": null,
   "metadata": {},
   "outputs": [],
   "source": []
  }
 ],
 "metadata": {
  "colab": {
   "name": "autodiff_GradientTape.ipynb",
   "provenance": [],
   "version": "0.3.2"
  },
  "kernelspec": {
   "display_name": "Python 3.7 (tf2)",
   "language": "python",
   "name": "py37tf"
  },
  "language_info": {
   "codemirror_mode": {
    "name": "ipython",
    "version": 3
   },
   "file_extension": ".py",
   "mimetype": "text/x-python",
   "name": "python",
   "nbconvert_exporter": "python",
   "pygments_lexer": "ipython3",
   "version": "3.7.3"
  }
 },
 "nbformat": 4,
 "nbformat_minor": 1
}
