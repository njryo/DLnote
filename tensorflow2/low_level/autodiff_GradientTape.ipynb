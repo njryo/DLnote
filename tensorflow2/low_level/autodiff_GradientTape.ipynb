{
  "nbformat": 4,
  "nbformat_minor": 0,
  "metadata": {
    "kernelspec": {
      "name": "python3",
      "display_name": "Python 3"
    },
    "colab": {
      "name": "autodiff_GradientTape.ipynb",
      "version": "0.3.2",
      "provenance": []
    }
  },
  "cells": [
    {
      "cell_type": "code",
      "metadata": {
        "id": "EZDRediu41KN",
        "colab_type": "code",
        "colab": {}
      },
      "source": [
        "# !pip install tensorflow==2.0.0beta1"
      ],
      "execution_count": 0,
      "outputs": []
    },
    {
      "cell_type": "code",
      "metadata": {
        "id": "r9FNB3j14tCF",
        "colab_type": "code",
        "colab": {
          "base_uri": "https://localhost:8080/",
          "height": 35
        },
        "outputId": "6d08d4a2-8582-432f-9e64-c523ca2c8a2f"
      },
      "source": [
        "import numpy as np\n",
        "import tensorflow as tf\n",
        "\n",
        "print(tf.__version__)"
      ],
      "execution_count": 1,
      "outputs": [
        {
          "output_type": "stream",
          "text": [
            "2.0.0-beta1\n"
          ],
          "name": "stdout"
        }
      ]
    },
    {
      "cell_type": "markdown",
      "metadata": {
        "id": "GtvWWUMm4tCS",
        "colab_type": "text"
      },
      "source": [
        "## Gradient tapes"
      ]
    },
    {
      "cell_type": "code",
      "metadata": {
        "id": "XTYGFqOM4tCT",
        "colab_type": "code",
        "colab": {
          "base_uri": "https://localhost:8080/",
          "height": 53
        },
        "outputId": "111b3109-95cb-4c4b-8725-a6438f600e13"
      },
      "source": [
        "x = tf.ones(shape=(2, 2))\n",
        "\n",
        "with tf.GradientTape() as t:\n",
        "    t.watch(x)\n",
        "    y = tf.reduce_sum(x)\n",
        "    z = tf.multiply(y, y)\n",
        "    \n",
        "dz_dx = t.gradient(z, x)\n",
        "\n",
        "print(dz_dx.numpy())"
      ],
      "execution_count": 2,
      "outputs": [
        {
          "output_type": "stream",
          "text": [
            "[[8. 8.]\n",
            " [8. 8.]]\n"
          ],
          "name": "stdout"
        }
      ]
    },
    {
      "cell_type": "code",
      "metadata": {
        "id": "feC3eaoy4tCX",
        "colab_type": "code",
        "colab": {
          "base_uri": "https://localhost:8080/",
          "height": 35
        },
        "outputId": "421a67ba-4af3-4a20-cb2b-c1e7289e280d"
      },
      "source": [
        "# intermediate gradient\n",
        "x = tf.ones(shape=(2, 2))\n",
        "\n",
        "with tf.GradientTape() as t:\n",
        "    t.watch(x)\n",
        "    y = tf.reduce_sum(x)\n",
        "    z = tf.multiply(y, y)\n",
        "    \n",
        "dz_dy = t.gradient(z, y)\n",
        "\n",
        "print(dz_dy.numpy())"
      ],
      "execution_count": 3,
      "outputs": [
        {
          "output_type": "stream",
          "text": [
            "8.0\n"
          ],
          "name": "stdout"
        }
      ]
    },
    {
      "cell_type": "code",
      "metadata": {
        "id": "1PI6ZvIn4tCb",
        "colab_type": "code",
        "colab": {
          "base_uri": "https://localhost:8080/",
          "height": 333
        },
        "outputId": "0f2b90a6-8983-43c4-ba06-a00fc36f9f98"
      },
      "source": [
        "# これはエラーになる\n",
        "# .gradientが一度呼ばれるとGradientTapeは解放される\n",
        "x = tf.ones(shape=(2, 2))\n",
        "\n",
        "with tf.GradientTape() as t:\n",
        "    t.watch(x)\n",
        "    y = tf.reduce_sum(x)\n",
        "    z = tf.multiply(y, y)\n",
        "    \n",
        "dz_dx = t.gradient(z, x)    \n",
        "dz_dy = t.gradient(z, y)"
      ],
      "execution_count": 4,
      "outputs": [
        {
          "output_type": "error",
          "ename": "RuntimeError",
          "evalue": "ignored",
          "traceback": [
            "\u001b[0;31m---------------------------------------------------------------------------\u001b[0m",
            "\u001b[0;31mRuntimeError\u001b[0m                              Traceback (most recent call last)",
            "\u001b[0;32m<ipython-input-4-0e4d65642da1>\u001b[0m in \u001b[0;36m<module>\u001b[0;34m()\u001b[0m\n\u001b[1;32m      7\u001b[0m \u001b[0;34m\u001b[0m\u001b[0m\n\u001b[1;32m      8\u001b[0m \u001b[0mdz_dx\u001b[0m \u001b[0;34m=\u001b[0m \u001b[0mt\u001b[0m\u001b[0;34m.\u001b[0m\u001b[0mgradient\u001b[0m\u001b[0;34m(\u001b[0m\u001b[0mz\u001b[0m\u001b[0;34m,\u001b[0m \u001b[0mx\u001b[0m\u001b[0;34m)\u001b[0m\u001b[0;34m\u001b[0m\u001b[0;34m\u001b[0m\u001b[0m\n\u001b[0;32m----> 9\u001b[0;31m \u001b[0mdz_dy\u001b[0m \u001b[0;34m=\u001b[0m \u001b[0mt\u001b[0m\u001b[0;34m.\u001b[0m\u001b[0mgradient\u001b[0m\u001b[0;34m(\u001b[0m\u001b[0mz\u001b[0m\u001b[0;34m,\u001b[0m \u001b[0my\u001b[0m\u001b[0;34m)\u001b[0m\u001b[0;34m\u001b[0m\u001b[0;34m\u001b[0m\u001b[0m\n\u001b[0m",
            "\u001b[0;32m/usr/local/lib/python3.6/dist-packages/tensorflow/python/eager/backprop.py\u001b[0m in \u001b[0;36mgradient\u001b[0;34m(self, target, sources, output_gradients, unconnected_gradients)\u001b[0m\n\u001b[1;32m    951\u001b[0m     \"\"\"\n\u001b[1;32m    952\u001b[0m     \u001b[0;32mif\u001b[0m \u001b[0mself\u001b[0m\u001b[0;34m.\u001b[0m\u001b[0m_tape\u001b[0m \u001b[0;32mis\u001b[0m \u001b[0;32mNone\u001b[0m\u001b[0;34m:\u001b[0m\u001b[0;34m\u001b[0m\u001b[0;34m\u001b[0m\u001b[0m\n\u001b[0;32m--> 953\u001b[0;31m       raise RuntimeError(\"GradientTape.gradient can only be called once on \"\n\u001b[0m\u001b[1;32m    954\u001b[0m                          \"non-persistent tapes.\")\n\u001b[1;32m    955\u001b[0m     \u001b[0;32mif\u001b[0m \u001b[0mself\u001b[0m\u001b[0;34m.\u001b[0m\u001b[0m_recording\u001b[0m\u001b[0;34m:\u001b[0m\u001b[0;34m\u001b[0m\u001b[0;34m\u001b[0m\u001b[0m\n",
            "\u001b[0;31mRuntimeError\u001b[0m: GradientTape.gradient can only be called once on non-persistent tapes."
          ]
        }
      ]
    },
    {
      "cell_type": "code",
      "metadata": {
        "id": "jn79JjJN4tCf",
        "colab_type": "code",
        "colab": {}
      },
      "source": [
        "# 複数回.gradientを呼ぶ場合はpersistent=Trueとする\n",
        "# リソースは手動で解放\n",
        "x = tf.ones(shape=(2, 2))\n",
        "\n",
        "with tf.GradientTape(persistent=True) as t:\n",
        "    t.watch(x)\n",
        "    y = tf.reduce_sum(x)\n",
        "    z = tf.multiply(y, y)\n",
        "    \n",
        "dz_dx = t.gradient(z, x)    \n",
        "dz_dy = t.gradient(z, y)\n",
        "\n",
        "del t"
      ],
      "execution_count": 0,
      "outputs": []
    },
    {
      "cell_type": "markdown",
      "metadata": {
        "id": "IhW7HAOR4tCi",
        "colab_type": "text"
      },
      "source": [
        "## Higher-order gradients"
      ]
    },
    {
      "cell_type": "code",
      "metadata": {
        "id": "U3aW1DT14tCj",
        "colab_type": "code",
        "colab": {
          "base_uri": "https://localhost:8080/",
          "height": 53
        },
        "outputId": "425530f5-e805-444d-f75d-c2c7bbf3d765"
      },
      "source": [
        "x = tf.Variable(2.0)\n",
        "\n",
        "with tf.GradientTape() as t:\n",
        "    with tf.GradientTape() as t2:\n",
        "        y = x * x\n",
        "    \n",
        "    dy_dx = t2.gradient(y, x)\n",
        "d2y_d2x = t.gradient(dy_dx, x)\n",
        "\n",
        "print(dy_dx)\n",
        "print(d2y_d2x)"
      ],
      "execution_count": 6,
      "outputs": [
        {
          "output_type": "stream",
          "text": [
            "tf.Tensor(4.0, shape=(), dtype=float32)\n",
            "tf.Tensor(2.0, shape=(), dtype=float32)\n"
          ],
          "name": "stdout"
        }
      ]
    },
    {
      "cell_type": "markdown",
      "metadata": {
        "id": "ZqxIfe4P4tCn",
        "colab_type": "text"
      },
      "source": [
        "## .watchについて\n",
        "\n",
        "cf. tf.GradientTapeのドキュメント（argsのwatch_accessed_variablesの部分など）\n",
        "\n",
        "デフォルトではtrainableなVariableを自動でwatchしている。細かいコントロールをしたい時は`watch_accessed_variables=False`とする。"
      ]
    },
    {
      "cell_type": "code",
      "metadata": {
        "id": "0saj3SrQ5TRG",
        "colab_type": "code",
        "colab": {}
      },
      "source": [
        "tf.GradientTape?"
      ],
      "execution_count": 0,
      "outputs": []
    },
    {
      "cell_type": "code",
      "metadata": {
        "id": "RD9gWhNo5W1h",
        "colab_type": "code",
        "colab": {
          "base_uri": "https://localhost:8080/",
          "height": 163
        },
        "outputId": "d5d193bd-3445-420e-c521-baab22d4ed47"
      },
      "source": [
        "a = tf.Variable(2.0)\n",
        "b = tf.Variable(3.0)\n",
        "c = tf.Variable(1.0)\n",
        "\n",
        "with tf.GradientTape() as t:\n",
        "    y = a**2 + b * c\n",
        "\n",
        "dy_da, dy_db, dy_dc = t.gradient(y, [a, b, c])\n",
        "\n",
        "print(dy_da)\n",
        "print(dy_db)\n",
        "print(dy_dc)"
      ],
      "execution_count": 7,
      "outputs": [
        {
          "output_type": "stream",
          "text": [
            "WARNING: Logging before flag parsing goes to stderr.\n",
            "W0721 14:24:13.977720 139852788111232 deprecation.py:323] From /usr/local/lib/python3.6/dist-packages/tensorflow/python/ops/math_grad.py:1205: add_dispatch_support.<locals>.wrapper (from tensorflow.python.ops.array_ops) is deprecated and will be removed in a future version.\n",
            "Instructions for updating:\n",
            "Use tf.where in 2.0, which has the same broadcast rule as np.where\n"
          ],
          "name": "stderr"
        },
        {
          "output_type": "stream",
          "text": [
            "tf.Tensor(4.0, shape=(), dtype=float32)\n",
            "tf.Tensor(1.0, shape=(), dtype=float32)\n",
            "tf.Tensor(3.0, shape=(), dtype=float32)\n"
          ],
          "name": "stdout"
        }
      ]
    },
    {
      "cell_type": "code",
      "metadata": {
        "id": "nq-3NWHh57lP",
        "colab_type": "code",
        "colab": {
          "base_uri": "https://localhost:8080/",
          "height": 71
        },
        "outputId": "688c8e89-192e-4116-ac98-6d1e32facf1b"
      },
      "source": [
        "a = tf.Variable(2.0)\n",
        "b = tf.Variable(3.0)\n",
        "c = tf.Variable(1.0)\n",
        "\n",
        "with tf.GradientTape(watch_accessed_variables=False) as t:\n",
        "    t.watch([b, c])\n",
        "    y = a**2 + b * c\n",
        "\n",
        "dy_da, dy_db, dy_dc = t.gradient(y, [a, b, c])\n",
        "\n",
        "print(dy_da)\n",
        "print(dy_db)\n",
        "print(dy_dc)"
      ],
      "execution_count": 8,
      "outputs": [
        {
          "output_type": "stream",
          "text": [
            "None\n",
            "tf.Tensor(1.0, shape=(), dtype=float32)\n",
            "tf.Tensor(3.0, shape=(), dtype=float32)\n"
          ],
          "name": "stdout"
        }
      ]
    },
    {
      "cell_type": "code",
      "metadata": {
        "id": "3_TY_uRV6erz",
        "colab_type": "code",
        "colab": {}
      },
      "source": [
        ""
      ],
      "execution_count": 0,
      "outputs": []
    }
  ]
}