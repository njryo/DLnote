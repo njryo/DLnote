{
 "cells": [
  {
   "cell_type": "code",
   "execution_count": 1,
   "metadata": {},
   "outputs": [
    {
     "name": "stdout",
     "output_type": "stream",
     "text": [
      "2.0.0-beta1\n"
     ]
    }
   ],
   "source": [
    "import numpy as np\n",
    "import tensorflow as tf\n",
    "from tensorflow import keras\n",
    "\n",
    "print(tf.__version__)"
   ]
  },
  {
   "cell_type": "code",
   "execution_count": 2,
   "metadata": {},
   "outputs": [],
   "source": [
    "def make_toy_dataset(num_data):\n",
    "    X = np.random.randn(num_data, 3)\n",
    "    y = 3 * X[:, 0] - 2 * X[:, 1]**3 + 2 * X[:, 2]**2 + 0.5 * np.random.randn(num_data)\n",
    "    y = y[:, np.newaxis]\n",
    "    return X, y"
   ]
  },
  {
   "cell_type": "code",
   "execution_count": 3,
   "metadata": {},
   "outputs": [],
   "source": [
    "def build_model():\n",
    "    model = keras.models.Sequential([\n",
    "        keras.layers.Dense(10, activation=\"relu\", input_dim=3),\n",
    "        keras.layers.Dense(10, activation=\"relu\"),\n",
    "        keras.layers.Dense(1)\n",
    "    ])\n",
    "\n",
    "    return model"
   ]
  },
  {
   "cell_type": "code",
   "execution_count": 4,
   "metadata": {},
   "outputs": [],
   "source": [
    "N_train = 1000\n",
    "N_test = 200\n",
    "\n",
    "num_epochs = 25\n",
    "learning_rate = 0.01\n",
    "batch_size = 64"
   ]
  },
  {
   "cell_type": "code",
   "execution_count": 5,
   "metadata": {},
   "outputs": [],
   "source": [
    "# get toy datasets\n",
    "X_train, y_train = make_toy_dataset(N_train)\n",
    "X_test, y_test = make_toy_dataset(N_test)\n",
    "\n",
    "# make datasets\n",
    "train_dataset = tf.data.Dataset.from_tensor_slices((X_train, y_train))\n",
    "train_dataset = train_dataset.shuffle(buffer_size=512).batch(batch_size)\n",
    "\n",
    "test_dataset = tf.data.Dataset.from_tensor_slices((X_test, y_test))\n",
    "test_dataset = test_dataset.batch(100)"
   ]
  },
  {
   "cell_type": "code",
   "execution_count": 6,
   "metadata": {},
   "outputs": [
    {
     "name": "stdout",
     "output_type": "stream",
     "text": [
      "epoch 1: loss=73.471, val_loss=29.793621, mae=4.619, val_mae=3.468\n",
      "epoch 2: loss=39.127, val_loss=28.593746, mae=3.485, val_mae=3.690\n",
      "epoch 3: loss=32.429, val_loss=24.075203, mae=3.167, val_mae=3.273\n",
      "epoch 4: loss=26.503, val_loss=20.386633, mae=2.782, val_mae=2.959\n",
      "epoch 5: loss=21.783, val_loss=16.858789, mae=2.495, val_mae=2.623\n",
      "epoch 6: loss=17.787, val_loss=13.565987, mae=2.221, val_mae=2.188\n",
      "epoch 7: loss=14.618, val_loss=12.462762, mae=1.948, val_mae=2.182\n",
      "epoch 8: loss=12.315, val_loss=11.677664, mae=1.741, val_mae=2.187\n",
      "epoch 9: loss=10.510, val_loss=10.945240, mae=1.603, val_mae=2.165\n",
      "epoch 10: loss=9.509, val_loss=10.479336, mae=1.547, val_mae=2.178\n",
      "epoch 11: loss=8.434, val_loss=9.961853, mae=1.474, val_mae=2.111\n",
      "epoch 12: loss=7.672, val_loss=9.180765, mae=1.437, val_mae=2.052\n",
      "epoch 13: loss=6.965, val_loss=8.860435, mae=1.398, val_mae=1.976\n",
      "epoch 14: loss=6.578, val_loss=9.045691, mae=1.379, val_mae=1.994\n",
      "epoch 15: loss=6.204, val_loss=7.967905, mae=1.351, val_mae=1.869\n",
      "epoch 16: loss=5.896, val_loss=7.919436, mae=1.319, val_mae=1.865\n",
      "epoch 17: loss=5.550, val_loss=7.278399, mae=1.295, val_mae=1.782\n",
      "epoch 18: loss=5.182, val_loss=6.477595, mae=1.259, val_mae=1.678\n",
      "epoch 19: loss=4.813, val_loss=6.106372, mae=1.197, val_mae=1.626\n",
      "epoch 20: loss=4.455, val_loss=5.453454, mae=1.154, val_mae=1.548\n",
      "epoch 21: loss=4.091, val_loss=4.924345, mae=1.110, val_mae=1.495\n",
      "epoch 22: loss=3.835, val_loss=4.740227, mae=1.095, val_mae=1.487\n",
      "epoch 23: loss=3.522, val_loss=4.784862, mae=1.066, val_mae=1.510\n",
      "epoch 24: loss=3.287, val_loss=4.797626, mae=1.046, val_mae=1.525\n",
      "epoch 25: loss=3.069, val_loss=4.596415, mae=1.027, val_mae=1.512\n"
     ]
    }
   ],
   "source": [
    "model = build_model()\n",
    "optimizer = keras.optimizers.SGD(learning_rate=learning_rate)\n",
    "loss_fn = keras.losses.MeanSquaredError()\n",
    "\n",
    "train_loss = keras.metrics.Mean()\n",
    "test_loss = keras.metrics.Mean()\n",
    "train_mae_metric = keras.metrics.MeanAbsoluteError()\n",
    "test_mae_metric = keras.metrics.MeanAbsoluteError()\n",
    "\n",
    "\n",
    "for epoch in range(1, num_epochs+1):\n",
    "    \n",
    "    # train step \n",
    "    for x_batch, y_batch in train_dataset:\n",
    "        with tf.GradientTape() as tape:\n",
    "            y_pred = model(x_batch)\n",
    "            loss = loss_fn(y_batch, y_pred)\n",
    "        grads = tape.gradient(loss, model.trainable_weights)\n",
    "        optimizer.apply_gradients(zip(grads, model.trainable_weights))\n",
    "        \n",
    "        # accumulate metrics of one batch\n",
    "        train_loss(loss)\n",
    "        train_mae_metric(y_batch, y_pred)\n",
    "    \n",
    "    \n",
    "    # get metrics of one epoch and reset their states\n",
    "    train_loss_result = train_loss.result()\n",
    "    train_loss.reset_states()\n",
    "    \n",
    "    train_mae_result = train_mae_metric.result()\n",
    "    train_mae_metric.reset_states()\n",
    "    \n",
    "    \n",
    "    # evaluation step\n",
    "    for x_batch, y_batch in test_dataset:\n",
    "        y_pred = model(x_batch)\n",
    "        loss = loss_fn(y_batch, y_pred)\n",
    "        \n",
    "        # accumulate metrics\n",
    "        test_loss(loss)\n",
    "        test_mae_metric(y_batch, y_pred)\n",
    "    \n",
    "    \n",
    "    # get metrics and reset their states\n",
    "    test_loss_result = test_loss.result()\n",
    "    test_loss.reset_states()\n",
    "    \n",
    "    test_mae_result = test_mae_metric.result()\n",
    "    test_mae_metric.reset_states()\n",
    "    \n",
    "    \n",
    "    # print train logs\n",
    "    template = \"epoch {}: loss={:.3f}, val_loss={:3f}, mae={:.3f}, val_mae={:.3f}\"\n",
    "    print(template.format(epoch, train_loss_result, test_loss_result, train_mae_result, test_mae_result))"
   ]
  },
  {
   "cell_type": "code",
   "execution_count": null,
   "metadata": {},
   "outputs": [],
   "source": []
  }
 ],
 "metadata": {
  "kernelspec": {
   "display_name": "Python 3.7 (tf2)",
   "language": "python",
   "name": "py37tf"
  },
  "language_info": {
   "codemirror_mode": {
    "name": "ipython",
    "version": 3
   },
   "file_extension": ".py",
   "mimetype": "text/x-python",
   "name": "python",
   "nbconvert_exporter": "python",
   "pygments_lexer": "ipython3",
   "version": "3.7.3"
  }
 },
 "nbformat": 4,
 "nbformat_minor": 2
}
