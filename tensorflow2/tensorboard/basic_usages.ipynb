{
 "cells": [
  {
   "cell_type": "markdown",
   "metadata": {},
   "source": [
    "# TensorBoard Basic Usage"
   ]
  },
  {
   "cell_type": "code",
   "execution_count": 1,
   "metadata": {},
   "outputs": [
    {
     "name": "stdout",
     "output_type": "stream",
     "text": [
      "tensorflow version: 2.0.0\n"
     ]
    }
   ],
   "source": [
    "import os\n",
    "import numpy as np\n",
    "import tensorflow as tf\n",
    "from tensorflow import keras\n",
    "\n",
    "print(\"tensorflow version:\", tf.__version__)"
   ]
  },
  {
   "cell_type": "markdown",
   "metadata": {},
   "source": [
    "## Data\n",
    "\n",
    "fashion MNIST データを用いる。"
   ]
  },
  {
   "cell_type": "code",
   "execution_count": 2,
   "metadata": {},
   "outputs": [
    {
     "name": "stdout",
     "output_type": "stream",
     "text": [
      "(60000, 28, 28)\n",
      "(60000,)\n",
      "uint8\n",
      "uint8\n"
     ]
    }
   ],
   "source": [
    "(x_train, y_train), (x_test, y_test) = keras.datasets.fashion_mnist.load_data()\n",
    "\n",
    "print(x_train.shape)\n",
    "print(y_train.shape)\n",
    "\n",
    "print(x_train.dtype)\n",
    "print(y_train.dtype)"
   ]
  },
  {
   "cell_type": "code",
   "execution_count": 3,
   "metadata": {},
   "outputs": [],
   "source": [
    "x_train = x_train.reshape(-1, 28 * 28) / 255\n",
    "x_train = x_train.astype(np.float32)\n",
    "\n",
    "x_test = x_test.reshape(-1, 28 * 28) / 255\n",
    "x_test = x_test.astype(np.float32)"
   ]
  },
  {
   "cell_type": "code",
   "execution_count": 4,
   "metadata": {},
   "outputs": [],
   "source": [
    "y_train = y_train[:, np.newaxis]\n",
    "y_test = y_test[:, np.newaxis]"
   ]
  },
  {
   "cell_type": "markdown",
   "metadata": {},
   "source": [
    "## Model"
   ]
  },
  {
   "cell_type": "code",
   "execution_count": 5,
   "metadata": {},
   "outputs": [],
   "source": [
    "def build_model():\n",
    "    \"\"\"Return a toy keras sequential model.\"\"\"\n",
    "    \n",
    "    model = keras.models.Sequential([\n",
    "        keras.layers.Dense(128, activation=\"relu\", input_shape=(28 * 28, )),\n",
    "        keras.layers.Dense(128, activation=\"relu\"),\n",
    "        keras.layers.Dense(128, activation=\"relu\"),\n",
    "        keras.layers.Dense(10, activation=\"softmax\")\n",
    "    ])\n",
    "    \n",
    "    return model"
   ]
  },
  {
   "cell_type": "markdown",
   "metadata": {},
   "source": [
    "## Logging with TensorBoard"
   ]
  },
  {
   "cell_type": "markdown",
   "metadata": {},
   "source": [
    "### Keras Model.fit"
   ]
  },
  {
   "cell_type": "code",
   "execution_count": 6,
   "metadata": {},
   "outputs": [],
   "source": [
    "model = build_model()\n",
    "optimizer = keras.optimizers.Adam()\n",
    "\n",
    "model.compile(\n",
    "    optimizer,\n",
    "    loss=\"sparse_categorical_crossentropy\",\n",
    "    metrics=[\"accuracy\"]\n",
    ")"
   ]
  },
  {
   "cell_type": "code",
   "execution_count": 7,
   "metadata": {},
   "outputs": [
    {
     "name": "stdout",
     "output_type": "stream",
     "text": [
      "Train on 60000 samples, validate on 10000 samples\n",
      "Epoch 1/10\n",
      "60000/60000 [==============================] - 5s 82us/sample - loss: 0.5295 - accuracy: 0.8115 - val_loss: 0.4275 - val_accuracy: 0.8472\n",
      "Epoch 2/10\n",
      "60000/60000 [==============================] - 3s 47us/sample - loss: 0.3748 - accuracy: 0.8631 - val_loss: 0.3739 - val_accuracy: 0.8651\n",
      "Epoch 3/10\n",
      "60000/60000 [==============================] - 3s 48us/sample - loss: 0.3365 - accuracy: 0.8763 - val_loss: 0.3652 - val_accuracy: 0.8673\n",
      "Epoch 4/10\n",
      "60000/60000 [==============================] - 3s 45us/sample - loss: 0.3123 - accuracy: 0.8829 - val_loss: 0.3483 - val_accuracy: 0.8712\n",
      "Epoch 5/10\n",
      "60000/60000 [==============================] - 3s 50us/sample - loss: 0.2957 - accuracy: 0.8903 - val_loss: 0.3365 - val_accuracy: 0.8771\n",
      "Epoch 6/10\n",
      "60000/60000 [==============================] - 3s 46us/sample - loss: 0.2815 - accuracy: 0.8956 - val_loss: 0.3442 - val_accuracy: 0.8732\n",
      "Epoch 7/10\n",
      "60000/60000 [==============================] - 3s 45us/sample - loss: 0.2703 - accuracy: 0.8972 - val_loss: 0.3566 - val_accuracy: 0.8719\n",
      "Epoch 8/10\n",
      "60000/60000 [==============================] - 3s 45us/sample - loss: 0.2575 - accuracy: 0.9036 - val_loss: 0.3223 - val_accuracy: 0.8836\n",
      "Epoch 9/10\n",
      "60000/60000 [==============================] - 3s 45us/sample - loss: 0.2460 - accuracy: 0.9075 - val_loss: 0.3387 - val_accuracy: 0.8797\n",
      "Epoch 10/10\n",
      "60000/60000 [==============================] - 3s 45us/sample - loss: 0.2372 - accuracy: 0.9101 - val_loss: 0.3415 - val_accuracy: 0.8846\n"
     ]
    },
    {
     "data": {
      "text/plain": [
       "<tensorflow.python.keras.callbacks.History at 0x1cc3bd88d08>"
      ]
     },
     "execution_count": 7,
     "metadata": {},
     "output_type": "execute_result"
    }
   ],
   "source": [
    "logdir = os.path.join(\"logs\", \"basic\", \"model_fit\")\n",
    "tb_callback = keras.callbacks.TensorBoard(log_dir=logdir)\n",
    "\n",
    "model.fit(\n",
    "    x_train, y_train,\n",
    "    batch_size = 128,\n",
    "    epochs=10,\n",
    "    verbose=1,\n",
    "    callbacks=[tb_callback],\n",
    "    validation_data=(x_test, y_test))"
   ]
  },
  {
   "cell_type": "markdown",
   "metadata": {},
   "source": [
    "### Manually"
   ]
  },
  {
   "cell_type": "code",
   "execution_count": 8,
   "metadata": {},
   "outputs": [],
   "source": [
    "# make datasets for train and test\n",
    "train_dataset = tf.data.Dataset.from_tensor_slices((x_train, y_train))\n",
    "test_dataset = tf.data.Dataset.from_tensor_slices((x_test, y_test))\n",
    "\n",
    "train_dataset = train_dataset.shuffle(60000).batch(128)\n",
    "test_dataset = test_dataset.batch(128)"
   ]
  },
  {
   "cell_type": "code",
   "execution_count": 9,
   "metadata": {},
   "outputs": [],
   "source": [
    "# loss function\n",
    "loss_fn = tf.keras.losses.SparseCategoricalCrossentropy()\n",
    "\n",
    "# metrics\n",
    "train_loss = tf.keras.metrics.Mean(\"train_loss\", dtype=tf.float32)\n",
    "test_loss = tf.keras.metrics.Mean(\"test_loss\", dtype=tf.float32)\n",
    "train_accuracy = tf.keras.metrics.SparseCategoricalAccuracy(\"train_accuracy\")\n",
    "test_accuracy = tf.keras.metrics.SparseCategoricalAccuracy(\"test_accuracy\")"
   ]
  },
  {
   "cell_type": "code",
   "execution_count": 10,
   "metadata": {},
   "outputs": [],
   "source": [
    "@tf.function\n",
    "def train_step(model, optimizer, x_batch, y_batch):\n",
    "    with tf.GradientTape() as tape:\n",
    "        preds = model(x_batch, training=True)\n",
    "        loss = loss_fn(y_batch, preds)\n",
    "        \n",
    "    grads = tape.gradient(loss, model.trainable_variables)\n",
    "    optimizer.apply_gradients(zip(grads, model.trainable_variables))\n",
    "    \n",
    "    train_loss(loss)\n",
    "    train_accuracy(y_batch, preds)\n",
    "\n",
    "@tf.function   \n",
    "def test_step(model, x_batch, y_batch):\n",
    "    preds = model(x_batch)\n",
    "    loss = loss_fn(y_batch, preds)\n",
    "    \n",
    "    test_loss(loss)\n",
    "    test_accuracy(y_batch, preds)"
   ]
  },
  {
   "cell_type": "code",
   "execution_count": 11,
   "metadata": {},
   "outputs": [],
   "source": [
    "train_logdir = os.path.join(\"logs\", \"basic\", \"manually\", \"train\")\n",
    "test_logdir = os.path.join(\"logs\", \"basic\", \"manually\", \"validation\")\n",
    "\n",
    "train_summary_writer = tf.summary.create_file_writer(logdir=train_logdir)\n",
    "test_summary_writer = tf.summary.create_file_writer(logdir=test_logdir)"
   ]
  },
  {
   "cell_type": "code",
   "execution_count": 12,
   "metadata": {},
   "outputs": [],
   "source": [
    "model = build_model()\n",
    "optimizer = keras.optimizers.Adam(learning_rate=0.0001)\n",
    "\n",
    "for epoch in range(10):\n",
    "    \n",
    "    # train steps\n",
    "    for (x_batch, y_batch) in train_dataset:\n",
    "        train_step(model, optimizer, x_batch, y_batch)\n",
    "        \n",
    "    with train_summary_writer.as_default():\n",
    "        tf.summary.scalar(\"epoch_loss\", train_loss.result(), step=epoch)\n",
    "        tf.summary.scalar(\"epoch_accuracy\", train_accuracy.result(), step=epoch)\n",
    "        \n",
    "    # test steps\n",
    "    for (x_batch, y_batch) in test_dataset:\n",
    "        test_step(model, x_batch, y_batch)\n",
    "        \n",
    "    with test_summary_writer.as_default():\n",
    "        tf.summary.scalar(\"epoch_loss\", test_loss.result(), step=epoch)\n",
    "        tf.summary.scalar(\"epoch_accuracy\", test_accuracy.result(), step=epoch)\n",
    "        \n",
    "    # reset metrics\n",
    "    train_loss.reset_states()\n",
    "    test_loss.reset_states()\n",
    "    train_accuracy.reset_states()\n",
    "    test_accuracy.reset_states()"
   ]
  },
  {
   "cell_type": "code",
   "execution_count": null,
   "metadata": {},
   "outputs": [],
   "source": []
  }
 ],
 "metadata": {
  "kernelspec": {
   "display_name": "Python 3.7 (tf2.0)",
   "language": "python",
   "name": "py37tf"
  },
  "language_info": {
   "codemirror_mode": {
    "name": "ipython",
    "version": 3
   },
   "file_extension": ".py",
   "mimetype": "text/x-python",
   "name": "python",
   "nbconvert_exporter": "python",
   "pygments_lexer": "ipython3",
   "version": "3.7.4"
  },
  "toc-autonumbering": false,
  "toc-showmarkdowntxt": true,
  "toc-showtags": false
 },
 "nbformat": 4,
 "nbformat_minor": 4
}
